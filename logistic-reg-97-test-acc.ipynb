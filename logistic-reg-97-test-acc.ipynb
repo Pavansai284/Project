{
 "cells": [
  {
   "cell_type": "code",
   "execution_count": 1,
   "id": "42e6c8d1",
   "metadata": {
    "execution": {
     "iopub.execute_input": "2021-10-17T05:38:43.732257Z",
     "iopub.status.busy": "2021-10-17T05:38:43.731206Z",
     "iopub.status.idle": "2021-10-17T05:38:43.735266Z",
     "shell.execute_reply": "2021-10-17T05:38:43.734715Z"
    },
    "papermill": {
     "duration": 0.03008,
     "end_time": "2021-10-17T05:38:43.735428",
     "exception": false,
     "start_time": "2021-10-17T05:38:43.705348",
     "status": "completed"
    },
    "tags": []
   },
   "outputs": [],
   "source": [
    "# Author : Sagar Bapodara (This is my first submission in a kaggle competition)"
   ]
  },
  {
   "cell_type": "markdown",
   "id": "d4a39079",
   "metadata": {
    "papermill": {
     "duration": 0.028357,
     "end_time": "2021-10-17T05:38:43.785893",
     "exception": false,
     "start_time": "2021-10-17T05:38:43.757536",
     "status": "completed"
    },
    "tags": []
   },
   "source": [
    "# Importing Dependencies"
   ]
  },
  {
   "cell_type": "code",
   "execution_count": 2,
   "id": "b9896e17",
   "metadata": {
    "execution": {
     "iopub.execute_input": "2021-10-17T05:38:43.849706Z",
     "iopub.status.busy": "2021-10-17T05:38:43.848759Z",
     "iopub.status.idle": "2021-10-17T05:38:45.374749Z",
     "shell.execute_reply": "2021-10-17T05:38:45.375472Z",
     "shell.execute_reply.started": "2021-10-17T05:35:38.673622Z"
    },
    "papermill": {
     "duration": 1.561582,
     "end_time": "2021-10-17T05:38:45.375691",
     "exception": false,
     "start_time": "2021-10-17T05:38:43.814109",
     "status": "completed"
    },
    "tags": []
   },
   "outputs": [
    {
     "name": "stdout",
     "output_type": "stream",
     "text": [
      "Dependencies Loaded Successfully\n"
     ]
    }
   ],
   "source": [
    "import os\n",
    "import sys\n",
    "import numpy as np\n",
    "import pandas as pd\n",
    "import seaborn as sns\n",
    "import matplotlib.pyplot as plt\n",
    "import re \n",
    "from nltk.corpus import stopwords \n",
    "from nltk.stem.porter import PorterStemmer\n",
    "from sklearn.feature_extraction.text import TfidfVectorizer\n",
    "from sklearn.model_selection import train_test_split \n",
    "from sklearn.linear_model import LogisticRegression\n",
    "from sklearn.metrics import accuracy_score \n",
    "print('Dependencies Loaded Successfully')"
   ]
  },
  {
   "cell_type": "code",
   "execution_count": 3,
   "id": "6dc4d20f",
   "metadata": {
    "execution": {
     "iopub.execute_input": "2021-10-17T05:38:45.423805Z",
     "iopub.status.busy": "2021-10-17T05:38:45.423228Z",
     "iopub.status.idle": "2021-10-17T05:38:45.503846Z",
     "shell.execute_reply": "2021-10-17T05:38:45.504334Z",
     "shell.execute_reply.started": "2021-10-17T05:35:41.969361Z"
    },
    "papermill": {
     "duration": 0.105331,
     "end_time": "2021-10-17T05:38:45.504532",
     "exception": false,
     "start_time": "2021-10-17T05:38:45.399201",
     "status": "completed"
    },
    "tags": []
   },
   "outputs": [
    {
     "name": "stdout",
     "output_type": "stream",
     "text": [
      "[nltk_data] Downloading package stopwords to /usr/share/nltk_data...\n",
      "[nltk_data]   Package stopwords is already up-to-date!\n",
      "['i', 'me', 'my', 'myself', 'we', 'our', 'ours', 'ourselves', 'you', \"you're\", \"you've\", \"you'll\", \"you'd\", 'your', 'yours', 'yourself', 'yourselves', 'he', 'him', 'his', 'himself', 'she', \"she's\", 'her', 'hers', 'herself', 'it', \"it's\", 'its', 'itself', 'they', 'them', 'their', 'theirs', 'themselves', 'what', 'which', 'who', 'whom', 'this', 'that', \"that'll\", 'these', 'those', 'am', 'is', 'are', 'was', 'were', 'be', 'been', 'being', 'have', 'has', 'had', 'having', 'do', 'does', 'did', 'doing', 'a', 'an', 'the', 'and', 'but', 'if', 'or', 'because', 'as', 'until', 'while', 'of', 'at', 'by', 'for', 'with', 'about', 'against', 'between', 'into', 'through', 'during', 'before', 'after', 'above', 'below', 'to', 'from', 'up', 'down', 'in', 'out', 'on', 'off', 'over', 'under', 'again', 'further', 'then', 'once', 'here', 'there', 'when', 'where', 'why', 'how', 'all', 'any', 'both', 'each', 'few', 'more', 'most', 'other', 'some', 'such', 'no', 'nor', 'not', 'only', 'own', 'same', 'so', 'than', 'too', 'very', 's', 't', 'can', 'will', 'just', 'don', \"don't\", 'should', \"should've\", 'now', 'd', 'll', 'm', 'o', 're', 've', 'y', 'ain', 'aren', \"aren't\", 'couldn', \"couldn't\", 'didn', \"didn't\", 'doesn', \"doesn't\", 'hadn', \"hadn't\", 'hasn', \"hasn't\", 'haven', \"haven't\", 'isn', \"isn't\", 'ma', 'mightn', \"mightn't\", 'mustn', \"mustn't\", 'needn', \"needn't\", 'shan', \"shan't\", 'shouldn', \"shouldn't\", 'wasn', \"wasn't\", 'weren', \"weren't\", 'won', \"won't\", 'wouldn', \"wouldn't\"]\n"
     ]
    }
   ],
   "source": [
    "# Importing the stopwords\n",
    "import nltk\n",
    "nltk.download('stopwords')\n",
    "print(stopwords.words('english')) #English Stopwords"
   ]
  },
  {
   "cell_type": "markdown",
   "id": "9596ce7a",
   "metadata": {
    "papermill": {
     "duration": 0.021627,
     "end_time": "2021-10-17T05:38:45.549103",
     "exception": false,
     "start_time": "2021-10-17T05:38:45.527476",
     "status": "completed"
    },
    "tags": []
   },
   "source": [
    "# Importing Data "
   ]
  },
  {
   "cell_type": "code",
   "execution_count": 4,
   "id": "de621059",
   "metadata": {
    "execution": {
     "iopub.execute_input": "2021-10-17T05:38:45.596813Z",
     "iopub.status.busy": "2021-10-17T05:38:45.595916Z",
     "iopub.status.idle": "2021-10-17T05:38:48.223133Z",
     "shell.execute_reply": "2021-10-17T05:38:48.223576Z",
     "shell.execute_reply.started": "2021-10-17T05:35:48.757686Z"
    },
    "papermill": {
     "duration": 2.652516,
     "end_time": "2021-10-17T05:38:48.223750",
     "exception": false,
     "start_time": "2021-10-17T05:38:45.571234",
     "status": "completed"
    },
    "tags": []
   },
   "outputs": [
    {
     "data": {
      "text/html": [
       "<div>\n",
       "<style scoped>\n",
       "    .dataframe tbody tr th:only-of-type {\n",
       "        vertical-align: middle;\n",
       "    }\n",
       "\n",
       "    .dataframe tbody tr th {\n",
       "        vertical-align: top;\n",
       "    }\n",
       "\n",
       "    .dataframe thead th {\n",
       "        text-align: right;\n",
       "    }\n",
       "</style>\n",
       "<table border=\"1\" class=\"dataframe\">\n",
       "  <thead>\n",
       "    <tr style=\"text-align: right;\">\n",
       "      <th></th>\n",
       "      <th>id</th>\n",
       "      <th>title</th>\n",
       "      <th>author</th>\n",
       "      <th>text</th>\n",
       "      <th>label</th>\n",
       "    </tr>\n",
       "  </thead>\n",
       "  <tbody>\n",
       "    <tr>\n",
       "      <th>0</th>\n",
       "      <td>0</td>\n",
       "      <td>House Dem Aide: We Didn’t Even See Comey’s Let...</td>\n",
       "      <td>Darrell Lucus</td>\n",
       "      <td>House Dem Aide: We Didn’t Even See Comey’s Let...</td>\n",
       "      <td>1</td>\n",
       "    </tr>\n",
       "    <tr>\n",
       "      <th>1</th>\n",
       "      <td>1</td>\n",
       "      <td>FLYNN: Hillary Clinton, Big Woman on Campus - ...</td>\n",
       "      <td>Daniel J. Flynn</td>\n",
       "      <td>Ever get the feeling your life circles the rou...</td>\n",
       "      <td>0</td>\n",
       "    </tr>\n",
       "    <tr>\n",
       "      <th>2</th>\n",
       "      <td>2</td>\n",
       "      <td>Why the Truth Might Get You Fired</td>\n",
       "      <td>Consortiumnews.com</td>\n",
       "      <td>Why the Truth Might Get You Fired October 29, ...</td>\n",
       "      <td>1</td>\n",
       "    </tr>\n",
       "    <tr>\n",
       "      <th>3</th>\n",
       "      <td>3</td>\n",
       "      <td>15 Civilians Killed In Single US Airstrike Hav...</td>\n",
       "      <td>Jessica Purkiss</td>\n",
       "      <td>Videos 15 Civilians Killed In Single US Airstr...</td>\n",
       "      <td>1</td>\n",
       "    </tr>\n",
       "    <tr>\n",
       "      <th>4</th>\n",
       "      <td>4</td>\n",
       "      <td>Iranian woman jailed for fictional unpublished...</td>\n",
       "      <td>Howard Portnoy</td>\n",
       "      <td>Print \\nAn Iranian woman has been sentenced to...</td>\n",
       "      <td>1</td>\n",
       "    </tr>\n",
       "    <tr>\n",
       "      <th>5</th>\n",
       "      <td>5</td>\n",
       "      <td>Jackie Mason: Hollywood Would Love Trump if He...</td>\n",
       "      <td>Daniel Nussbaum</td>\n",
       "      <td>In these trying times, Jackie Mason is the Voi...</td>\n",
       "      <td>0</td>\n",
       "    </tr>\n",
       "    <tr>\n",
       "      <th>6</th>\n",
       "      <td>6</td>\n",
       "      <td>Life: Life Of Luxury: Elton John’s 6 Favorite ...</td>\n",
       "      <td>NaN</td>\n",
       "      <td>Ever wonder how Britain’s most iconic pop pian...</td>\n",
       "      <td>1</td>\n",
       "    </tr>\n",
       "    <tr>\n",
       "      <th>7</th>\n",
       "      <td>7</td>\n",
       "      <td>Benoît Hamon Wins French Socialist Party’s Pre...</td>\n",
       "      <td>Alissa J. Rubin</td>\n",
       "      <td>PARIS  —   France chose an idealistic, traditi...</td>\n",
       "      <td>0</td>\n",
       "    </tr>\n",
       "    <tr>\n",
       "      <th>8</th>\n",
       "      <td>8</td>\n",
       "      <td>Excerpts From a Draft Script for Donald Trump’...</td>\n",
       "      <td>NaN</td>\n",
       "      <td>Donald J. Trump is scheduled to make a highly ...</td>\n",
       "      <td>0</td>\n",
       "    </tr>\n",
       "    <tr>\n",
       "      <th>9</th>\n",
       "      <td>9</td>\n",
       "      <td>A Back-Channel Plan for Ukraine and Russia, Co...</td>\n",
       "      <td>Megan Twohey and Scott Shane</td>\n",
       "      <td>A week before Michael T. Flynn resigned as nat...</td>\n",
       "      <td>0</td>\n",
       "    </tr>\n",
       "  </tbody>\n",
       "</table>\n",
       "</div>"
      ],
      "text/plain": [
       "   id                                              title  \\\n",
       "0   0  House Dem Aide: We Didn’t Even See Comey’s Let...   \n",
       "1   1  FLYNN: Hillary Clinton, Big Woman on Campus - ...   \n",
       "2   2                  Why the Truth Might Get You Fired   \n",
       "3   3  15 Civilians Killed In Single US Airstrike Hav...   \n",
       "4   4  Iranian woman jailed for fictional unpublished...   \n",
       "5   5  Jackie Mason: Hollywood Would Love Trump if He...   \n",
       "6   6  Life: Life Of Luxury: Elton John’s 6 Favorite ...   \n",
       "7   7  Benoît Hamon Wins French Socialist Party’s Pre...   \n",
       "8   8  Excerpts From a Draft Script for Donald Trump’...   \n",
       "9   9  A Back-Channel Plan for Ukraine and Russia, Co...   \n",
       "\n",
       "                         author  \\\n",
       "0                 Darrell Lucus   \n",
       "1               Daniel J. Flynn   \n",
       "2            Consortiumnews.com   \n",
       "3               Jessica Purkiss   \n",
       "4                Howard Portnoy   \n",
       "5               Daniel Nussbaum   \n",
       "6                           NaN   \n",
       "7               Alissa J. Rubin   \n",
       "8                           NaN   \n",
       "9  Megan Twohey and Scott Shane   \n",
       "\n",
       "                                                text  label  \n",
       "0  House Dem Aide: We Didn’t Even See Comey’s Let...      1  \n",
       "1  Ever get the feeling your life circles the rou...      0  \n",
       "2  Why the Truth Might Get You Fired October 29, ...      1  \n",
       "3  Videos 15 Civilians Killed In Single US Airstr...      1  \n",
       "4  Print \\nAn Iranian woman has been sentenced to...      1  \n",
       "5  In these trying times, Jackie Mason is the Voi...      0  \n",
       "6  Ever wonder how Britain’s most iconic pop pian...      1  \n",
       "7  PARIS  —   France chose an idealistic, traditi...      0  \n",
       "8  Donald J. Trump is scheduled to make a highly ...      0  \n",
       "9  A week before Michael T. Flynn resigned as nat...      0  "
      ]
     },
     "execution_count": 4,
     "metadata": {},
     "output_type": "execute_result"
    }
   ],
   "source": [
    "news_data = pd.read_csv('../input/fake-news/train.csv')\n",
    "news_data.head(10)"
   ]
  },
  {
   "cell_type": "markdown",
   "id": "e168bef0",
   "metadata": {
    "papermill": {
     "duration": 0.022589,
     "end_time": "2021-10-17T05:38:48.269480",
     "exception": false,
     "start_time": "2021-10-17T05:38:48.246891",
     "status": "completed"
    },
    "tags": []
   },
   "source": [
    "#### 1 : Fake News, 0 : Real News"
   ]
  },
  {
   "cell_type": "markdown",
   "id": "879accb3",
   "metadata": {
    "papermill": {
     "duration": 0.022439,
     "end_time": "2021-10-17T05:38:48.314610",
     "exception": false,
     "start_time": "2021-10-17T05:38:48.292171",
     "status": "completed"
    },
    "tags": []
   },
   "source": [
    "# Basic Data Analysis"
   ]
  },
  {
   "cell_type": "code",
   "execution_count": 5,
   "id": "f22704bc",
   "metadata": {
    "execution": {
     "iopub.execute_input": "2021-10-17T05:38:48.363213Z",
     "iopub.status.busy": "2021-10-17T05:38:48.362642Z",
     "iopub.status.idle": "2021-10-17T05:38:48.366917Z",
     "shell.execute_reply": "2021-10-17T05:38:48.367460Z",
     "shell.execute_reply.started": "2021-10-17T05:35:57.313600Z"
    },
    "papermill": {
     "duration": 0.030085,
     "end_time": "2021-10-17T05:38:48.367623",
     "exception": false,
     "start_time": "2021-10-17T05:38:48.337538",
     "status": "completed"
    },
    "tags": []
   },
   "outputs": [
    {
     "data": {
      "text/plain": [
       "(20800, 5)"
      ]
     },
     "execution_count": 5,
     "metadata": {},
     "output_type": "execute_result"
    }
   ],
   "source": [
    "news_data.shape"
   ]
  },
  {
   "cell_type": "code",
   "execution_count": 6,
   "id": "a4a78144",
   "metadata": {
    "execution": {
     "iopub.execute_input": "2021-10-17T05:38:48.416701Z",
     "iopub.status.busy": "2021-10-17T05:38:48.416131Z",
     "iopub.status.idle": "2021-10-17T05:38:48.427947Z",
     "shell.execute_reply": "2021-10-17T05:38:48.427455Z",
     "shell.execute_reply.started": "2021-10-17T05:35:57.582515Z"
    },
    "papermill": {
     "duration": 0.037391,
     "end_time": "2021-10-17T05:38:48.428081",
     "exception": false,
     "start_time": "2021-10-17T05:38:48.390690",
     "status": "completed"
    },
    "tags": []
   },
   "outputs": [
    {
     "name": "stdout",
     "output_type": "stream",
     "text": [
      "1    10413\n",
      "0    10387\n",
      "Name: label, dtype: int64\n"
     ]
    }
   ],
   "source": [
    "print(news_data['label'].value_counts())"
   ]
  },
  {
   "cell_type": "code",
   "execution_count": 7,
   "id": "b6f81776",
   "metadata": {
    "execution": {
     "iopub.execute_input": "2021-10-17T05:38:48.485835Z",
     "iopub.status.busy": "2021-10-17T05:38:48.485203Z",
     "iopub.status.idle": "2021-10-17T05:38:48.492352Z",
     "shell.execute_reply": "2021-10-17T05:38:48.491856Z",
     "shell.execute_reply.started": "2021-10-17T05:35:57.888476Z"
    },
    "papermill": {
     "duration": 0.040866,
     "end_time": "2021-10-17T05:38:48.492507",
     "exception": false,
     "start_time": "2021-10-17T05:38:48.451641",
     "status": "completed"
    },
    "tags": []
   },
   "outputs": [
    {
     "data": {
      "text/plain": [
       "id           0\n",
       "title      558\n",
       "author    1957\n",
       "text        39\n",
       "label        0\n",
       "dtype: int64"
      ]
     },
     "execution_count": 7,
     "metadata": {},
     "output_type": "execute_result"
    }
   ],
   "source": [
    "# Checking for missing values in the dataset\n",
    "news_data.isnull().sum()"
   ]
  },
  {
   "cell_type": "code",
   "execution_count": 8,
   "id": "744bd2a8",
   "metadata": {
    "execution": {
     "iopub.execute_input": "2021-10-17T05:38:48.550748Z",
     "iopub.status.busy": "2021-10-17T05:38:48.543992Z",
     "iopub.status.idle": "2021-10-17T05:38:48.555467Z",
     "shell.execute_reply": "2021-10-17T05:38:48.555919Z",
     "shell.execute_reply.started": "2021-10-17T05:36:00.236991Z"
    },
    "papermill": {
     "duration": 0.040012,
     "end_time": "2021-10-17T05:38:48.556101",
     "exception": false,
     "start_time": "2021-10-17T05:38:48.516089",
     "status": "completed"
    },
    "tags": []
   },
   "outputs": [],
   "source": [
    "# Replacing the null values with emtpy strings \n",
    "news_data = news_data.fillna('')"
   ]
  },
  {
   "cell_type": "code",
   "execution_count": 9,
   "id": "0778c7e6",
   "metadata": {
    "execution": {
     "iopub.execute_input": "2021-10-17T05:38:48.614481Z",
     "iopub.status.busy": "2021-10-17T05:38:48.613857Z",
     "iopub.status.idle": "2021-10-17T05:38:48.618887Z",
     "shell.execute_reply": "2021-10-17T05:38:48.619353Z",
     "shell.execute_reply.started": "2021-10-17T05:36:00.781887Z"
    },
    "papermill": {
     "duration": 0.039816,
     "end_time": "2021-10-17T05:38:48.619531",
     "exception": false,
     "start_time": "2021-10-17T05:38:48.579715",
     "status": "completed"
    },
    "tags": []
   },
   "outputs": [
    {
     "data": {
      "text/plain": [
       "id        0\n",
       "title     0\n",
       "author    0\n",
       "text      0\n",
       "label     0\n",
       "dtype: int64"
      ]
     },
     "execution_count": 9,
     "metadata": {},
     "output_type": "execute_result"
    }
   ],
   "source": [
    "# Checking for missing values again\n",
    "news_data.isnull().sum()"
   ]
  },
  {
   "cell_type": "markdown",
   "id": "166f386b",
   "metadata": {
    "papermill": {
     "duration": 0.023626,
     "end_time": "2021-10-17T05:38:48.666866",
     "exception": false,
     "start_time": "2021-10-17T05:38:48.643240",
     "status": "completed"
    },
    "tags": []
   },
   "source": [
    "# Classification Plan :\n",
    "#### To use '*Title*' and '*Author*' data columns to make predictions"
   ]
  },
  {
   "cell_type": "code",
   "execution_count": 10,
   "id": "d593548d",
   "metadata": {
    "execution": {
     "iopub.execute_input": "2021-10-17T05:38:48.717608Z",
     "iopub.status.busy": "2021-10-17T05:38:48.717044Z",
     "iopub.status.idle": "2021-10-17T05:38:48.729116Z",
     "shell.execute_reply": "2021-10-17T05:38:48.729577Z",
     "shell.execute_reply.started": "2021-10-17T05:36:24.481163Z"
    },
    "papermill": {
     "duration": 0.038767,
     "end_time": "2021-10-17T05:38:48.729739",
     "exception": false,
     "start_time": "2021-10-17T05:38:48.690972",
     "status": "completed"
    },
    "tags": []
   },
   "outputs": [],
   "source": [
    "#merging the author name and news title \n",
    "news_data['content'] = news_data['author']+' '+news_data['title']"
   ]
  },
  {
   "cell_type": "code",
   "execution_count": 11,
   "id": "d35827ed",
   "metadata": {
    "execution": {
     "iopub.execute_input": "2021-10-17T05:38:48.780959Z",
     "iopub.status.busy": "2021-10-17T05:38:48.780379Z",
     "iopub.status.idle": "2021-10-17T05:38:48.785771Z",
     "shell.execute_reply": "2021-10-17T05:38:48.786224Z",
     "shell.execute_reply.started": "2021-10-17T05:36:24.796826Z"
    },
    "papermill": {
     "duration": 0.032643,
     "end_time": "2021-10-17T05:38:48.786385",
     "exception": false,
     "start_time": "2021-10-17T05:38:48.753742",
     "status": "completed"
    },
    "tags": []
   },
   "outputs": [
    {
     "name": "stdout",
     "output_type": "stream",
     "text": [
      "0        Darrell Lucus House Dem Aide: We Didn’t Even S...\n",
      "1        Daniel J. Flynn FLYNN: Hillary Clinton, Big Wo...\n",
      "2        Consortiumnews.com Why the Truth Might Get You...\n",
      "3        Jessica Purkiss 15 Civilians Killed In Single ...\n",
      "4        Howard Portnoy Iranian woman jailed for fictio...\n",
      "                               ...                        \n",
      "20795    Jerome Hudson Rapper T.I.: Trump a ’Poster Chi...\n",
      "20796    Benjamin Hoffman N.F.L. Playoffs: Schedule, Ma...\n",
      "20797    Michael J. de la Merced and Rachel Abrams Macy...\n",
      "20798    Alex Ansary NATO, Russia To Hold Parallel Exer...\n",
      "20799              David Swanson What Keeps the F-35 Alive\n",
      "Name: content, Length: 20800, dtype: object\n"
     ]
    }
   ],
   "source": [
    "print(news_data['content'])"
   ]
  },
  {
   "cell_type": "code",
   "execution_count": 12,
   "id": "ed19301a",
   "metadata": {
    "execution": {
     "iopub.execute_input": "2021-10-17T05:38:48.838590Z",
     "iopub.status.busy": "2021-10-17T05:38:48.837653Z",
     "iopub.status.idle": "2021-10-17T05:38:48.851887Z",
     "shell.execute_reply": "2021-10-17T05:38:48.851349Z",
     "shell.execute_reply.started": "2021-10-17T05:36:25.438549Z"
    },
    "papermill": {
     "duration": 0.041153,
     "end_time": "2021-10-17T05:38:48.852020",
     "exception": false,
     "start_time": "2021-10-17T05:38:48.810867",
     "status": "completed"
    },
    "tags": []
   },
   "outputs": [],
   "source": [
    "# separating the data & label\n",
    "X = news_data.drop(columns='label', axis=1)\n",
    "Y = news_data['label']"
   ]
  },
  {
   "cell_type": "code",
   "execution_count": 13,
   "id": "e3e373dc",
   "metadata": {
    "execution": {
     "iopub.execute_input": "2021-10-17T05:38:48.909065Z",
     "iopub.status.busy": "2021-10-17T05:38:48.908465Z",
     "iopub.status.idle": "2021-10-17T05:38:48.911370Z",
     "shell.execute_reply": "2021-10-17T05:38:48.911848Z",
     "shell.execute_reply.started": "2021-10-17T05:36:25.921740Z"
    },
    "papermill": {
     "duration": 0.035901,
     "end_time": "2021-10-17T05:38:48.912000",
     "exception": false,
     "start_time": "2021-10-17T05:38:48.876099",
     "status": "completed"
    },
    "tags": []
   },
   "outputs": [
    {
     "name": "stdout",
     "output_type": "stream",
     "text": [
      "          id                                              title  \\\n",
      "0          0  House Dem Aide: We Didn’t Even See Comey’s Let...   \n",
      "1          1  FLYNN: Hillary Clinton, Big Woman on Campus - ...   \n",
      "2          2                  Why the Truth Might Get You Fired   \n",
      "3          3  15 Civilians Killed In Single US Airstrike Hav...   \n",
      "4          4  Iranian woman jailed for fictional unpublished...   \n",
      "...      ...                                                ...   \n",
      "20795  20795  Rapper T.I.: Trump a ’Poster Child For White S...   \n",
      "20796  20796  N.F.L. Playoffs: Schedule, Matchups and Odds -...   \n",
      "20797  20797  Macy’s Is Said to Receive Takeover Approach by...   \n",
      "20798  20798  NATO, Russia To Hold Parallel Exercises In Bal...   \n",
      "20799  20799                          What Keeps the F-35 Alive   \n",
      "\n",
      "                                          author  \\\n",
      "0                                  Darrell Lucus   \n",
      "1                                Daniel J. Flynn   \n",
      "2                             Consortiumnews.com   \n",
      "3                                Jessica Purkiss   \n",
      "4                                 Howard Portnoy   \n",
      "...                                          ...   \n",
      "20795                              Jerome Hudson   \n",
      "20796                           Benjamin Hoffman   \n",
      "20797  Michael J. de la Merced and Rachel Abrams   \n",
      "20798                                Alex Ansary   \n",
      "20799                              David Swanson   \n",
      "\n",
      "                                                    text  \\\n",
      "0      House Dem Aide: We Didn’t Even See Comey’s Let...   \n",
      "1      Ever get the feeling your life circles the rou...   \n",
      "2      Why the Truth Might Get You Fired October 29, ...   \n",
      "3      Videos 15 Civilians Killed In Single US Airstr...   \n",
      "4      Print \\nAn Iranian woman has been sentenced to...   \n",
      "...                                                  ...   \n",
      "20795  Rapper T. I. unloaded on black celebrities who...   \n",
      "20796  When the Green Bay Packers lost to the Washing...   \n",
      "20797  The Macy’s of today grew from the union of sev...   \n",
      "20798  NATO, Russia To Hold Parallel Exercises In Bal...   \n",
      "20799    David Swanson is an author, activist, journa...   \n",
      "\n",
      "                                                 content  \n",
      "0      Darrell Lucus House Dem Aide: We Didn’t Even S...  \n",
      "1      Daniel J. Flynn FLYNN: Hillary Clinton, Big Wo...  \n",
      "2      Consortiumnews.com Why the Truth Might Get You...  \n",
      "3      Jessica Purkiss 15 Civilians Killed In Single ...  \n",
      "4      Howard Portnoy Iranian woman jailed for fictio...  \n",
      "...                                                  ...  \n",
      "20795  Jerome Hudson Rapper T.I.: Trump a ’Poster Chi...  \n",
      "20796  Benjamin Hoffman N.F.L. Playoffs: Schedule, Ma...  \n",
      "20797  Michael J. de la Merced and Rachel Abrams Macy...  \n",
      "20798  Alex Ansary NATO, Russia To Hold Parallel Exer...  \n",
      "20799            David Swanson What Keeps the F-35 Alive  \n",
      "\n",
      "[20800 rows x 5 columns]\n"
     ]
    }
   ],
   "source": [
    "print(X)"
   ]
  },
  {
   "cell_type": "code",
   "execution_count": 14,
   "id": "eae11ed3",
   "metadata": {
    "execution": {
     "iopub.execute_input": "2021-10-17T05:38:48.966986Z",
     "iopub.status.busy": "2021-10-17T05:38:48.966348Z",
     "iopub.status.idle": "2021-10-17T05:38:48.970129Z",
     "shell.execute_reply": "2021-10-17T05:38:48.969591Z",
     "shell.execute_reply.started": "2021-10-17T05:36:29.514314Z"
    },
    "papermill": {
     "duration": 0.033884,
     "end_time": "2021-10-17T05:38:48.970264",
     "exception": false,
     "start_time": "2021-10-17T05:38:48.936380",
     "status": "completed"
    },
    "tags": []
   },
   "outputs": [
    {
     "name": "stdout",
     "output_type": "stream",
     "text": [
      "0        1\n",
      "1        0\n",
      "2        1\n",
      "3        1\n",
      "4        1\n",
      "        ..\n",
      "20795    0\n",
      "20796    0\n",
      "20797    0\n",
      "20798    1\n",
      "20799    1\n",
      "Name: label, Length: 20800, dtype: int64\n"
     ]
    }
   ],
   "source": [
    "print(Y)"
   ]
  },
  {
   "cell_type": "markdown",
   "id": "ab782c7c",
   "metadata": {
    "papermill": {
     "duration": 0.024085,
     "end_time": "2021-10-17T05:38:49.019556",
     "exception": false,
     "start_time": "2021-10-17T05:38:48.995471",
     "status": "completed"
    },
    "tags": []
   },
   "source": [
    "# Stemming Process \n",
    "#### In short : Reducing a word to its root word, removing prefix and suffix "
   ]
  },
  {
   "cell_type": "code",
   "execution_count": 15,
   "id": "5e1aa195",
   "metadata": {
    "execution": {
     "iopub.execute_input": "2021-10-17T05:38:49.072376Z",
     "iopub.status.busy": "2021-10-17T05:38:49.071823Z",
     "iopub.status.idle": "2021-10-17T05:38:49.074666Z",
     "shell.execute_reply": "2021-10-17T05:38:49.074118Z",
     "shell.execute_reply.started": "2021-10-17T05:36:35.472009Z"
    },
    "papermill": {
     "duration": 0.030847,
     "end_time": "2021-10-17T05:38:49.074801",
     "exception": false,
     "start_time": "2021-10-17T05:38:49.043954",
     "status": "completed"
    },
    "tags": []
   },
   "outputs": [],
   "source": [
    "port_stem = PorterStemmer()"
   ]
  },
  {
   "cell_type": "markdown",
   "id": "b0c42867",
   "metadata": {
    "papermill": {
     "duration": 0.024183,
     "end_time": "2021-10-17T05:38:49.123315",
     "exception": false,
     "start_time": "2021-10-17T05:38:49.099132",
     "status": "completed"
    },
    "tags": []
   },
   "source": [
    "#### Defining the stemmer function"
   ]
  },
  {
   "cell_type": "code",
   "execution_count": 16,
   "id": "774b85c5",
   "metadata": {
    "execution": {
     "iopub.execute_input": "2021-10-17T05:38:49.177034Z",
     "iopub.status.busy": "2021-10-17T05:38:49.176386Z",
     "iopub.status.idle": "2021-10-17T05:38:49.179449Z",
     "shell.execute_reply": "2021-10-17T05:38:49.178939Z",
     "shell.execute_reply.started": "2021-10-17T05:36:37.054443Z"
    },
    "papermill": {
     "duration": 0.031849,
     "end_time": "2021-10-17T05:38:49.179577",
     "exception": false,
     "start_time": "2021-10-17T05:38:49.147728",
     "status": "completed"
    },
    "tags": []
   },
   "outputs": [],
   "source": [
    "def stemming(content):\n",
    "    stemmed_content = re.sub('[^a-zA-Z]',' ',content)\n",
    "    stemmed_content = stemmed_content.lower()\n",
    "    stemmed_content = stemmed_content.split()\n",
    "    stemmed_content = [port_stem.stem(word) for word in stemmed_content if not word in stopwords.words('english')]\n",
    "    stemmed_content = ' '.join(stemmed_content)\n",
    "    return stemmed_content"
   ]
  },
  {
   "cell_type": "code",
   "execution_count": 17,
   "id": "00fbad52",
   "metadata": {
    "execution": {
     "iopub.execute_input": "2021-10-17T05:38:49.234029Z",
     "iopub.status.busy": "2021-10-17T05:38:49.233416Z",
     "iopub.status.idle": "2021-10-17T05:39:27.716282Z",
     "shell.execute_reply": "2021-10-17T05:39:27.715784Z",
     "shell.execute_reply.started": "2021-10-17T05:36:39.496369Z"
    },
    "papermill": {
     "duration": 38.512464,
     "end_time": "2021-10-17T05:39:27.716464",
     "exception": false,
     "start_time": "2021-10-17T05:38:49.204000",
     "status": "completed"
    },
    "tags": []
   },
   "outputs": [],
   "source": [
    "news_data['content'] = news_data['content'].apply(stemming)"
   ]
  },
  {
   "cell_type": "code",
   "execution_count": 18,
   "id": "dcf117ed",
   "metadata": {
    "execution": {
     "iopub.execute_input": "2021-10-17T05:39:27.772001Z",
     "iopub.status.busy": "2021-10-17T05:39:27.771373Z",
     "iopub.status.idle": "2021-10-17T05:39:27.773878Z",
     "shell.execute_reply": "2021-10-17T05:39:27.774545Z",
     "shell.execute_reply.started": "2021-10-17T05:37:35.438314Z"
    },
    "papermill": {
     "duration": 0.033339,
     "end_time": "2021-10-17T05:39:27.774766",
     "exception": false,
     "start_time": "2021-10-17T05:39:27.741427",
     "status": "completed"
    },
    "tags": []
   },
   "outputs": [
    {
     "name": "stdout",
     "output_type": "stream",
     "text": [
      "0        darrel lucu hous dem aid even see comey letter...\n",
      "1        daniel j flynn flynn hillari clinton big woman...\n",
      "2                   consortiumnew com truth might get fire\n",
      "3        jessica purkiss civilian kill singl us airstri...\n",
      "4        howard portnoy iranian woman jail fiction unpu...\n",
      "                               ...                        \n",
      "20795    jerom hudson rapper trump poster child white s...\n",
      "20796    benjamin hoffman n f l playoff schedul matchup...\n",
      "20797    michael j de la merc rachel abram maci said re...\n",
      "20798    alex ansari nato russia hold parallel exercis ...\n",
      "20799                            david swanson keep f aliv\n",
      "Name: content, Length: 20800, dtype: object\n"
     ]
    }
   ],
   "source": [
    "print(news_data['content'])"
   ]
  },
  {
   "cell_type": "code",
   "execution_count": 19,
   "id": "6504e4f2",
   "metadata": {
    "execution": {
     "iopub.execute_input": "2021-10-17T05:39:27.833742Z",
     "iopub.status.busy": "2021-10-17T05:39:27.833100Z",
     "iopub.status.idle": "2021-10-17T05:39:27.835342Z",
     "shell.execute_reply": "2021-10-17T05:39:27.834762Z",
     "shell.execute_reply.started": "2021-10-17T05:37:39.077129Z"
    },
    "papermill": {
     "duration": 0.034333,
     "end_time": "2021-10-17T05:39:27.835504",
     "exception": false,
     "start_time": "2021-10-17T05:39:27.801171",
     "status": "completed"
    },
    "tags": []
   },
   "outputs": [],
   "source": [
    "# Seperating the data and the label \n",
    "\n",
    "X = news_data['content'].values\n",
    "Y = news_data['label'].values"
   ]
  },
  {
   "cell_type": "markdown",
   "id": "f71f6343",
   "metadata": {
    "papermill": {
     "duration": 0.02573,
     "end_time": "2021-10-17T05:39:27.886782",
     "exception": false,
     "start_time": "2021-10-17T05:39:27.861052",
     "status": "completed"
    },
    "tags": []
   },
   "source": [
    "# Vectorizing the content data"
   ]
  },
  {
   "cell_type": "code",
   "execution_count": 20,
   "id": "b71d811f",
   "metadata": {
    "execution": {
     "iopub.execute_input": "2021-10-17T05:39:27.980205Z",
     "iopub.status.busy": "2021-10-17T05:39:27.949228Z",
     "iopub.status.idle": "2021-10-17T05:39:28.402613Z",
     "shell.execute_reply": "2021-10-17T05:39:28.402092Z",
     "shell.execute_reply.started": "2021-10-17T05:37:40.045461Z"
    },
    "papermill": {
     "duration": 0.491226,
     "end_time": "2021-10-17T05:39:28.402755",
     "exception": false,
     "start_time": "2021-10-17T05:39:27.911529",
     "status": "completed"
    },
    "tags": []
   },
   "outputs": [],
   "source": [
    "# converting the textual data into numerical data \n",
    "vectorizer = TfidfVectorizer()\n",
    "vectorizer.fit(X)\n",
    "X = vectorizer.transform(X)"
   ]
  },
  {
   "cell_type": "markdown",
   "id": "6a9d6ff8",
   "metadata": {
    "papermill": {
     "duration": 0.024651,
     "end_time": "2021-10-17T05:39:28.509192",
     "exception": false,
     "start_time": "2021-10-17T05:39:28.484541",
     "status": "completed"
    },
    "tags": []
   },
   "source": [
    "# Splitting the dataset into Training(80%) and Testing(20%)"
   ]
  },
  {
   "cell_type": "code",
   "execution_count": 21,
   "id": "aa19b286",
   "metadata": {
    "execution": {
     "iopub.execute_input": "2021-10-17T05:39:28.565011Z",
     "iopub.status.busy": "2021-10-17T05:39:28.564384Z",
     "iopub.status.idle": "2021-10-17T05:39:28.580622Z",
     "shell.execute_reply": "2021-10-17T05:39:28.580070Z",
     "shell.execute_reply.started": "2021-10-17T05:37:45.429408Z"
    },
    "papermill": {
     "duration": 0.046595,
     "end_time": "2021-10-17T05:39:28.580761",
     "exception": false,
     "start_time": "2021-10-17T05:39:28.534166",
     "status": "completed"
    },
    "tags": []
   },
   "outputs": [],
   "source": [
    "X_train, X_test, Y_train, Y_test = train_test_split(X,Y, test_size=0.2, stratify=Y, random_state=2)"
   ]
  },
  {
   "cell_type": "markdown",
   "id": "22d322cf",
   "metadata": {
    "papermill": {
     "duration": 0.026552,
     "end_time": "2021-10-17T05:39:28.632563",
     "exception": false,
     "start_time": "2021-10-17T05:39:28.606011",
     "status": "completed"
    },
    "tags": []
   },
   "source": [
    "# Training the Logistic Regression Model"
   ]
  },
  {
   "cell_type": "code",
   "execution_count": 22,
   "id": "5013e56f",
   "metadata": {
    "execution": {
     "iopub.execute_input": "2021-10-17T05:39:28.686876Z",
     "iopub.status.busy": "2021-10-17T05:39:28.685371Z",
     "iopub.status.idle": "2021-10-17T05:39:28.690539Z",
     "shell.execute_reply": "2021-10-17T05:39:28.690037Z",
     "shell.execute_reply.started": "2021-10-17T05:37:50.964800Z"
    },
    "papermill": {
     "duration": 0.033085,
     "end_time": "2021-10-17T05:39:28.690681",
     "exception": false,
     "start_time": "2021-10-17T05:39:28.657596",
     "status": "completed"
    },
    "tags": []
   },
   "outputs": [],
   "source": [
    "model = LogisticRegression()"
   ]
  },
  {
   "cell_type": "code",
   "execution_count": 23,
   "id": "d678b07f",
   "metadata": {
    "execution": {
     "iopub.execute_input": "2021-10-17T05:39:28.747203Z",
     "iopub.status.busy": "2021-10-17T05:39:28.746578Z",
     "iopub.status.idle": "2021-10-17T05:39:29.131524Z",
     "shell.execute_reply": "2021-10-17T05:39:29.132307Z",
     "shell.execute_reply.started": "2021-10-17T05:37:51.242167Z"
    },
    "papermill": {
     "duration": 0.416144,
     "end_time": "2021-10-17T05:39:29.132590",
     "exception": false,
     "start_time": "2021-10-17T05:39:28.716446",
     "status": "completed"
    },
    "tags": []
   },
   "outputs": [
    {
     "data": {
      "text/plain": [
       "LogisticRegression()"
      ]
     },
     "execution_count": 23,
     "metadata": {},
     "output_type": "execute_result"
    }
   ],
   "source": [
    "model.fit(X_train, Y_train)"
   ]
  },
  {
   "cell_type": "markdown",
   "id": "ed1ae16b",
   "metadata": {
    "papermill": {
     "duration": 0.049644,
     "end_time": "2021-10-17T05:39:29.231992",
     "exception": false,
     "start_time": "2021-10-17T05:39:29.182348",
     "status": "completed"
    },
    "tags": []
   },
   "source": [
    "# Model Evaluation"
   ]
  },
  {
   "cell_type": "markdown",
   "id": "933b3fb4",
   "metadata": {
    "papermill": {
     "duration": 0.025161,
     "end_time": "2021-10-17T05:39:29.287796",
     "exception": false,
     "start_time": "2021-10-17T05:39:29.262635",
     "status": "completed"
    },
    "tags": []
   },
   "source": [
    "#### A. On Training Data"
   ]
  },
  {
   "cell_type": "code",
   "execution_count": 24,
   "id": "0592a701",
   "metadata": {
    "execution": {
     "iopub.execute_input": "2021-10-17T05:39:29.342739Z",
     "iopub.status.busy": "2021-10-17T05:39:29.341031Z",
     "iopub.status.idle": "2021-10-17T05:39:29.345450Z",
     "shell.execute_reply": "2021-10-17T05:39:29.345855Z",
     "shell.execute_reply.started": "2021-10-17T05:37:56.433353Z"
    },
    "papermill": {
     "duration": 0.03291,
     "end_time": "2021-10-17T05:39:29.346013",
     "exception": false,
     "start_time": "2021-10-17T05:39:29.313103",
     "status": "completed"
    },
    "tags": []
   },
   "outputs": [],
   "source": [
    "X_train_prediction = model.predict(X_train)"
   ]
  },
  {
   "cell_type": "code",
   "execution_count": 25,
   "id": "5da1e37f",
   "metadata": {
    "execution": {
     "iopub.execute_input": "2021-10-17T05:39:29.401388Z",
     "iopub.status.busy": "2021-10-17T05:39:29.400490Z",
     "iopub.status.idle": "2021-10-17T05:39:29.403871Z",
     "shell.execute_reply": "2021-10-17T05:39:29.404317Z",
     "shell.execute_reply.started": "2021-10-17T05:37:56.755117Z"
    },
    "papermill": {
     "duration": 0.033257,
     "end_time": "2021-10-17T05:39:29.404491",
     "exception": false,
     "start_time": "2021-10-17T05:39:29.371234",
     "status": "completed"
    },
    "tags": []
   },
   "outputs": [],
   "source": [
    "training_data_accuracy = accuracy_score(X_train_prediction, Y_train)"
   ]
  },
  {
   "cell_type": "code",
   "execution_count": 26,
   "id": "42f64b30",
   "metadata": {
    "execution": {
     "iopub.execute_input": "2021-10-17T05:39:29.461900Z",
     "iopub.status.busy": "2021-10-17T05:39:29.461259Z",
     "iopub.status.idle": "2021-10-17T05:39:29.466449Z",
     "shell.execute_reply": "2021-10-17T05:39:29.465961Z",
     "shell.execute_reply.started": "2021-10-17T05:37:58.917278Z"
    },
    "papermill": {
     "duration": 0.035532,
     "end_time": "2021-10-17T05:39:29.466579",
     "exception": false,
     "start_time": "2021-10-17T05:39:29.431047",
     "status": "completed"
    },
    "tags": []
   },
   "outputs": [
    {
     "name": "stdout",
     "output_type": "stream",
     "text": [
      "Accuracy score of training data : 0.9865985576923076\n"
     ]
    }
   ],
   "source": [
    " print('Accuracy score of training data :', training_data_accuracy)"
   ]
  },
  {
   "cell_type": "markdown",
   "id": "08211160",
   "metadata": {
    "papermill": {
     "duration": 0.025138,
     "end_time": "2021-10-17T05:39:29.517950",
     "exception": false,
     "start_time": "2021-10-17T05:39:29.492812",
     "status": "completed"
    },
    "tags": []
   },
   "source": [
    "#### B. On Testing Data"
   ]
  },
  {
   "cell_type": "code",
   "execution_count": 27,
   "id": "ea7c675b",
   "metadata": {
    "execution": {
     "iopub.execute_input": "2021-10-17T05:39:29.572650Z",
     "iopub.status.busy": "2021-10-17T05:39:29.572036Z",
     "iopub.status.idle": "2021-10-17T05:39:29.575923Z",
     "shell.execute_reply": "2021-10-17T05:39:29.576366Z",
     "shell.execute_reply.started": "2021-10-17T05:38:01.341196Z"
    },
    "papermill": {
     "duration": 0.032834,
     "end_time": "2021-10-17T05:39:29.576537",
     "exception": false,
     "start_time": "2021-10-17T05:39:29.543703",
     "status": "completed"
    },
    "tags": []
   },
   "outputs": [],
   "source": [
    "X_test_prediction = model.predict(X_test)\n",
    "testing_data_accuracy = accuracy_score(X_test_prediction, Y_test)"
   ]
  },
  {
   "cell_type": "code",
   "execution_count": 28,
   "id": "64847047",
   "metadata": {
    "execution": {
     "iopub.execute_input": "2021-10-17T05:39:29.642077Z",
     "iopub.status.busy": "2021-10-17T05:39:29.641477Z",
     "iopub.status.idle": "2021-10-17T05:39:29.645473Z",
     "shell.execute_reply": "2021-10-17T05:39:29.644635Z",
     "shell.execute_reply.started": "2021-10-17T05:38:01.652987Z"
    },
    "papermill": {
     "duration": 0.043045,
     "end_time": "2021-10-17T05:39:29.645690",
     "exception": false,
     "start_time": "2021-10-17T05:39:29.602645",
     "status": "completed"
    },
    "tags": []
   },
   "outputs": [
    {
     "name": "stdout",
     "output_type": "stream",
     "text": [
      "Accuracy score of testing data : 0.9790865384615385\n"
     ]
    }
   ],
   "source": [
    " print('Accuracy score of testing data :', testing_data_accuracy)"
   ]
  },
  {
   "cell_type": "markdown",
   "id": "25d45528",
   "metadata": {
    "papermill": {
     "duration": 0.03609,
     "end_time": "2021-10-17T05:39:29.718762",
     "exception": false,
     "start_time": "2021-10-17T05:39:29.682672",
     "status": "completed"
    },
    "tags": []
   },
   "source": [
    "## If you found this useful, kindly upvote and comment your views :) "
   ]
  }
 ],
 "metadata": {
  "kernelspec": {
   "display_name": "Python 3",
   "language": "python",
   "name": "python3"
  },
  "language_info": {
   "codemirror_mode": {
    "name": "ipython",
    "version": 3
   },
   "file_extension": ".py",
   "mimetype": "text/x-python",
   "name": "python",
   "nbconvert_exporter": "python",
   "pygments_lexer": "ipython3",
   "version": "3.7.10"
  },
  "papermill": {
   "default_parameters": {},
   "duration": 54.316915,
   "end_time": "2021-10-17T05:39:30.454975",
   "environment_variables": {},
   "exception": null,
   "input_path": "__notebook__.ipynb",
   "output_path": "__notebook__.ipynb",
   "parameters": {},
   "start_time": "2021-10-17T05:38:36.138060",
   "version": "2.3.3"
  }
 },
 "nbformat": 4,
 "nbformat_minor": 5
}
